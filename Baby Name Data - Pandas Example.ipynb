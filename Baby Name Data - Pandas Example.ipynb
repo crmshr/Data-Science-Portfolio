{
 "cells": [
  {
   "cell_type": "code",
   "execution_count": 1,
   "metadata": {},
   "outputs": [],
   "source": [
    "# Analysis of Baby Names over the years taken from the US Social Security website"
   ]
  },
  {
   "cell_type": "code",
   "execution_count": 2,
   "metadata": {},
   "outputs": [],
   "source": [
    "import math\n",
    "import collections\n",
    "\n",
    "import numpy as np\n",
    "import pandas as pd\n",
    "import matplotlib.pyplot as plt\n",
    "import seaborn as sns\n",
    "\n",
    "%matplotlib inline\n"
   ]
  },
  {
   "cell_type": "code",
   "execution_count": 60,
   "metadata": {},
   "outputs": [],
   "source": [
    "# limit the amount of default rows you see on a dataframe\n",
    "pd.options.display.max_rows = 10"
   ]
  },
  {
   "cell_type": "code",
   "execution_count": 61,
   "metadata": {},
   "outputs": [],
   "source": [
    "# unzip names file\n",
    "import zipfile"
   ]
  },
  {
   "cell_type": "code",
   "execution_count": 4,
   "metadata": {},
   "outputs": [],
   "source": [
    "zipfile.ZipFile('Data/names.zip').extractall('.')"
   ]
  },
  {
   "cell_type": "code",
   "execution_count": 5,
   "metadata": {},
   "outputs": [
    {
     "name": "stdout",
     "output_type": "stream",
     "text": [
      " Volume in drive C is OSDisk\n",
      " Volume Serial Number is 0AE2-276B\n",
      "\n",
      " Directory of C:\\Users\\cmosher\\Documents\\GitHub Programs\n",
      "\n",
      "07/28/2020  01:58 PM    <DIR>          .\n",
      "07/28/2020  01:58 PM    <DIR>          ..\n",
      "07/28/2020  01:54 PM    <DIR>          .ipynb_checkpoints\n",
      "07/27/2020  05:39 PM           209,568 Anagram Finder.ipynb\n",
      "07/28/2020  01:56 PM             1,098 Baby Name Data - Pandas Example.ipynb\n",
      "07/23/2020  04:27 PM           741,824 Back-Test-Strategy - Red White Blue Method.ipynb\n",
      "07/23/2020  05:10 PM         8,063,542 Books_reviews_10000.json\n",
      "07/14/2020  01:54 PM            56,627 CM_Resume.docx\n",
      "07/28/2020  01:56 PM    <DIR>          Data\n",
      "07/14/2020  01:31 PM            45,386 JobDescription.docx\n",
      "07/27/2020  01:05 PM           151,198 Machine Learning SciKit Learn NLP Classifiers.ipynb\n",
      "07/23/2020  03:59 PM           140,819 Mark Minervini Method - Stock Screener.ipynb\n",
      "07/28/2020  01:58 PM    <DIR>          names\n",
      "07/28/2020  11:48 AM           494,856 NumPy Weather Data.ipynb\n",
      "07/22/2020  06:25 PM            67,823 Portfolio Optimization of Shale Oil Companies with Pandas and Numpy.ipynb\n",
      "07/16/2020  09:16 AM            44,897 Resume Job Posting Matcher.ipynb\n",
      "07/23/2020  03:02 PM         2,939,725 RichardStocks.xlsx\n",
      "07/23/2020  04:14 PM             8,933 ScreenOutput.xlsx\n",
      "07/13/2020  03:12 PM             1,133 Untitled.ipynb\n",
      "07/23/2020  04:22 PM            99,264 Untitled1.ipynb\n",
      "07/13/2020  04:09 PM             9,924 Web Scraping Tutorial Using Beautiful Soupl.ipynb\n",
      "              16 File(s)     13,076,617 bytes\n",
      "               5 Dir(s)  163,719,770,112 bytes free\n"
     ]
    }
   ],
   "source": [
    "ls"
   ]
  },
  {
   "cell_type": "code",
   "execution_count": 6,
   "metadata": {},
   "outputs": [
    {
     "name": "stdout",
     "output_type": "stream",
     "text": [
      " Volume in drive C is OSDisk\n",
      " Volume Serial Number is 0AE2-276B\n",
      "\n",
      " Directory of C:\\Users\\cmosher\\Documents\\GitHub Programs\\names\n",
      "\n",
      "07/28/2020  01:58 PM    <DIR>          .\n",
      "07/28/2020  01:58 PM    <DIR>          ..\n",
      "07/28/2020  01:58 PM           316,364 NationalReadMe.pdf\n",
      "07/28/2020  01:58 PM            24,933 yob1880.txt\n",
      "07/28/2020  01:58 PM            24,065 yob1881.txt\n",
      "07/28/2020  01:58 PM            26,559 yob1882.txt\n",
      "07/28/2020  01:58 PM            26,002 yob1883.txt\n",
      "07/28/2020  01:58 PM            28,670 yob1884.txt\n",
      "07/28/2020  01:58 PM            28,625 yob1885.txt\n",
      "07/28/2020  01:58 PM            29,822 yob1886.txt\n",
      "07/28/2020  01:58 PM            29,531 yob1887.txt\n",
      "07/28/2020  01:58 PM            33,064 yob1888.txt\n",
      "07/28/2020  01:58 PM            32,297 yob1889.txt\n",
      "07/28/2020  01:58 PM            33,621 yob1890.txt\n",
      "07/28/2020  01:58 PM            33,186 yob1891.txt\n",
      "07/28/2020  01:58 PM            36,542 yob1892.txt\n",
      "07/28/2020  01:58 PM            35,433 yob1893.txt\n",
      "07/28/2020  01:58 PM            36,817 yob1894.txt\n",
      "07/28/2020  01:58 PM            38,232 yob1895.txt\n",
      "07/28/2020  01:58 PM            38,747 yob1896.txt\n",
      "07/28/2020  01:58 PM            37,936 yob1897.txt\n",
      "07/28/2020  01:58 PM            40,924 yob1898.txt\n",
      "07/28/2020  01:58 PM            38,141 yob1899.txt\n",
      "07/28/2020  01:58 PM            46,859 yob1900.txt\n",
      "07/28/2020  01:58 PM            39,584 yob1901.txt\n",
      "07/28/2020  01:58 PM            42,284 yob1902.txt\n",
      "07/28/2020  01:58 PM            42,679 yob1903.txt\n",
      "07/28/2020  01:58 PM            44,808 yob1904.txt\n",
      "07/28/2020  01:58 PM            46,003 yob1905.txt\n",
      "07/28/2020  01:58 PM            45,845 yob1906.txt\n",
      "07/28/2020  01:58 PM            49,829 yob1907.txt\n",
      "07/28/2020  01:58 PM            50,841 yob1908.txt\n",
      "07/28/2020  01:58 PM            53,501 yob1909.txt\n",
      "07/28/2020  01:58 PM            58,710 yob1910.txt\n",
      "07/28/2020  01:58 PM            61,761 yob1911.txt\n",
      "07/28/2020  01:58 PM            80,729 yob1912.txt\n",
      "07/28/2020  01:58 PM            88,705 yob1913.txt\n",
      "07/28/2020  01:58 PM           101,543 yob1914.txt\n",
      "07/28/2020  01:58 PM           119,431 yob1915.txt\n",
      "07/28/2020  01:58 PM           123,876 yob1916.txt\n",
      "07/28/2020  01:58 PM           126,774 yob1917.txt\n",
      "07/28/2020  01:58 PM           133,055 yob1918.txt\n",
      "07/28/2020  01:58 PM           132,729 yob1919.txt\n",
      "07/28/2020  01:58 PM           137,757 yob1920.txt\n",
      "07/28/2020  01:58 PM           139,192 yob1921.txt\n",
      "07/28/2020  01:58 PM           138,159 yob1922.txt\n",
      "07/28/2020  01:58 PM           136,669 yob1923.txt\n",
      "07/28/2020  01:58 PM           139,609 yob1924.txt\n",
      "07/28/2020  01:58 PM           136,776 yob1925.txt\n",
      "07/28/2020  01:58 PM           134,302 yob1926.txt\n",
      "07/28/2020  01:58 PM           133,882 yob1927.txt\n",
      "07/28/2020  01:58 PM           130,705 yob1928.txt\n",
      "07/28/2020  01:58 PM           126,445 yob1929.txt\n",
      "07/28/2020  01:58 PM           125,956 yob1930.txt\n",
      "07/28/2020  01:58 PM           119,615 yob1931.txt\n",
      "07/28/2020  01:58 PM           120,774 yob1932.txt\n",
      "07/28/2020  01:58 PM           115,898 yob1933.txt\n",
      "07/28/2020  01:58 PM           118,063 yob1934.txt\n",
      "07/28/2020  01:58 PM           116,298 yob1935.txt\n",
      "07/28/2020  01:58 PM           114,342 yob1936.txt\n",
      "07/28/2020  01:58 PM           115,342 yob1937.txt\n",
      "07/28/2020  01:58 PM           116,361 yob1938.txt\n",
      "07/28/2020  01:58 PM           114,798 yob1939.txt\n",
      "07/28/2020  01:58 PM           115,651 yob1940.txt\n",
      "07/28/2020  01:58 PM           117,219 yob1941.txt\n",
      "07/28/2020  01:58 PM           121,646 yob1942.txt\n",
      "07/28/2020  01:58 PM           121,517 yob1943.txt\n",
      "07/28/2020  01:58 PM           118,114 yob1944.txt\n",
      "07/28/2020  01:58 PM           116,520 yob1945.txt\n",
      "07/28/2020  01:58 PM           125,468 yob1946.txt\n",
      "07/28/2020  01:58 PM           134,063 yob1947.txt\n",
      "07/28/2020  01:58 PM           132,440 yob1948.txt\n",
      "07/28/2020  01:58 PM           132,865 yob1949.txt\n",
      "07/28/2020  01:58 PM           133,226 yob1950.txt\n",
      "07/28/2020  01:58 PM           135,493 yob1951.txt\n",
      "07/28/2020  01:58 PM           137,646 yob1952.txt\n",
      "07/28/2020  01:58 PM           140,143 yob1953.txt\n",
      "07/28/2020  01:58 PM           141,667 yob1954.txt\n",
      "07/28/2020  01:58 PM           143,627 yob1955.txt\n",
      "07/28/2020  01:58 PM           146,563 yob1956.txt\n",
      "07/28/2020  01:58 PM           149,144 yob1957.txt\n",
      "07/28/2020  01:58 PM           148,695 yob1958.txt\n",
      "07/28/2020  01:58 PM           151,947 yob1959.txt\n",
      "07/28/2020  01:58 PM           154,030 yob1960.txt\n",
      "07/28/2020  01:58 PM           157,606 yob1961.txt\n",
      "07/28/2020  01:58 PM           157,996 yob1962.txt\n",
      "07/28/2020  01:58 PM           158,901 yob1963.txt\n",
      "07/28/2020  01:58 PM           160,568 yob1964.txt\n",
      "07/28/2020  01:58 PM           155,011 yob1965.txt\n",
      "07/28/2020  01:58 PM           157,419 yob1966.txt\n",
      "07/28/2020  01:58 PM           160,606 yob1967.txt\n",
      "07/28/2020  01:58 PM           167,452 yob1968.txt\n",
      "07/28/2020  01:58 PM           177,991 yob1969.txt\n",
      "07/28/2020  01:58 PM           191,516 yob1970.txt\n",
      "07/28/2020  01:58 PM           198,166 yob1971.txt\n",
      "07/28/2020  01:58 PM           199,468 yob1972.txt\n",
      "07/28/2020  01:58 PM           203,048 yob1973.txt\n",
      "07/28/2020  01:58 PM           210,504 yob1974.txt\n",
      "07/28/2020  01:58 PM           219,193 yob1975.txt\n",
      "07/28/2020  01:58 PM           224,915 yob1976.txt\n",
      "07/28/2020  01:58 PM           235,016 yob1977.txt\n",
      "07/28/2020  01:58 PM           235,976 yob1978.txt\n",
      "07/28/2020  01:58 PM           246,474 yob1979.txt\n",
      "07/28/2020  01:58 PM           251,455 yob1980.txt\n",
      "07/28/2020  01:58 PM           251,898 yob1981.txt\n",
      "07/28/2020  01:58 PM           254,894 yob1982.txt\n",
      "07/28/2020  01:58 PM           250,968 yob1983.txt\n",
      "07/28/2020  01:58 PM           252,735 yob1984.txt\n",
      "07/28/2020  01:58 PM           260,330 yob1985.txt\n",
      "07/28/2020  01:58 PM           268,116 yob1986.txt\n",
      "07/28/2020  01:58 PM           278,403 yob1987.txt\n",
      "07/28/2020  01:58 PM           291,074 yob1988.txt\n",
      "07/28/2020  01:58 PM           309,554 yob1989.txt\n",
      "07/28/2020  01:58 PM           322,047 yob1990.txt\n",
      "07/28/2020  01:58 PM           327,203 yob1991.txt\n",
      "07/28/2020  01:58 PM           331,559 yob1992.txt\n",
      "07/28/2020  01:58 PM           337,914 yob1993.txt\n",
      "07/28/2020  01:58 PM           338,223 yob1994.txt\n",
      "07/28/2020  01:58 PM           339,136 yob1995.txt\n",
      "07/28/2020  01:58 PM           343,055 yob1996.txt\n",
      "07/28/2020  01:58 PM           350,104 yob1997.txt\n",
      "07/28/2020  01:58 PM           361,635 yob1998.txt\n",
      "07/28/2020  01:58 PM           369,390 yob1999.txt\n",
      "07/28/2020  01:58 PM           385,101 yob2000.txt\n",
      "07/28/2020  01:58 PM           391,165 yob2001.txt\n",
      "07/28/2020  01:58 PM           394,821 yob2002.txt\n",
      "07/28/2020  01:58 PM           402,610 yob2003.txt\n",
      "07/28/2020  01:58 PM           413,495 yob2004.txt\n",
      "07/28/2020  01:58 PM           420,214 yob2005.txt\n",
      "07/28/2020  01:58 PM           440,363 yob2006.txt\n",
      "07/28/2020  01:58 PM           451,397 yob2007.txt\n",
      "07/28/2020  01:58 PM           452,865 yob2008.txt\n",
      "07/28/2020  01:58 PM           448,033 yob2009.txt\n",
      "07/28/2020  01:58 PM           439,608 yob2010.txt\n",
      "07/28/2020  01:58 PM           437,159 yob2011.txt\n",
      "07/28/2020  01:58 PM           435,049 yob2012.txt\n",
      "07/28/2020  01:58 PM           428,768 yob2013.txt\n",
      "07/28/2020  01:58 PM           428,107 yob2014.txt\n",
      "07/28/2020  01:58 PM           426,134 yob2015.txt\n",
      "07/28/2020  01:58 PM           424,451 yob2016.txt\n",
      "07/28/2020  01:58 PM           418,588 yob2017.txt\n",
      "07/28/2020  01:58 PM           411,162 yob2018.txt\n",
      "             140 File(s)     25,564,293 bytes\n",
      "               2 Dir(s)  163,709,071,360 bytes free\n"
     ]
    }
   ],
   "source": [
    "# Extracted many text files sorted by Year of Birth #### \n",
    "ls names"
   ]
  },
  {
   "cell_type": "code",
   "execution_count": 7,
   "metadata": {},
   "outputs": [
    {
     "data": {
      "text/plain": [
       "['Sophia,F,21842\\n',\n",
       " 'Isabella,F,19910\\n',\n",
       " 'Emma,F,18803\\n',\n",
       " 'Olivia,F,17322\\n',\n",
       " 'Ava,F,15503\\n',\n",
       " 'Emily,F,14258\\n',\n",
       " 'Abigail,F,13248\\n',\n",
       " 'Madison,F,12389\\n',\n",
       " 'Mia,F,11530\\n',\n",
       " 'Chloe,F,10991\\n']"
      ]
     },
     "execution_count": 7,
     "metadata": {},
     "output_type": "execute_result"
    }
   ],
   "source": [
    "open('names/yob2011.txt','r').readlines()[:10]"
   ]
  },
  {
   "cell_type": "code",
   "execution_count": 9,
   "metadata": {},
   "outputs": [],
   "source": [
    "# looks like data is in csv format: name,sex,number of babies born that year with that name\n",
    "# read into pandas\n",
    "df2011 = pd.read_csv('names/yob2011.txt')"
   ]
  },
  {
   "cell_type": "code",
   "execution_count": 11,
   "metadata": {},
   "outputs": [
    {
     "data": {
      "text/html": [
       "<div>\n",
       "<style scoped>\n",
       "    .dataframe tbody tr th:only-of-type {\n",
       "        vertical-align: middle;\n",
       "    }\n",
       "\n",
       "    .dataframe tbody tr th {\n",
       "        vertical-align: top;\n",
       "    }\n",
       "\n",
       "    .dataframe thead th {\n",
       "        text-align: right;\n",
       "    }\n",
       "</style>\n",
       "<table border=\"1\" class=\"dataframe\">\n",
       "  <thead>\n",
       "    <tr style=\"text-align: right;\">\n",
       "      <th></th>\n",
       "      <th>Sophia</th>\n",
       "      <th>F</th>\n",
       "      <th>21842</th>\n",
       "    </tr>\n",
       "  </thead>\n",
       "  <tbody>\n",
       "    <tr>\n",
       "      <th>0</th>\n",
       "      <td>Isabella</td>\n",
       "      <td>F</td>\n",
       "      <td>19910</td>\n",
       "    </tr>\n",
       "    <tr>\n",
       "      <th>1</th>\n",
       "      <td>Emma</td>\n",
       "      <td>F</td>\n",
       "      <td>18803</td>\n",
       "    </tr>\n",
       "    <tr>\n",
       "      <th>2</th>\n",
       "      <td>Olivia</td>\n",
       "      <td>F</td>\n",
       "      <td>17322</td>\n",
       "    </tr>\n",
       "    <tr>\n",
       "      <th>3</th>\n",
       "      <td>Ava</td>\n",
       "      <td>F</td>\n",
       "      <td>15503</td>\n",
       "    </tr>\n",
       "    <tr>\n",
       "      <th>4</th>\n",
       "      <td>Emily</td>\n",
       "      <td>F</td>\n",
       "      <td>14258</td>\n",
       "    </tr>\n",
       "  </tbody>\n",
       "</table>\n",
       "</div>"
      ],
      "text/plain": [
       "     Sophia  F  21842\n",
       "0  Isabella  F  19910\n",
       "1      Emma  F  18803\n",
       "2    Olivia  F  17322\n",
       "3       Ava  F  15503\n",
       "4     Emily  F  14258"
      ]
     },
     "execution_count": 11,
     "metadata": {},
     "output_type": "execute_result"
    }
   ],
   "source": [
    "df2011.head()"
   ]
  },
  {
   "cell_type": "code",
   "execution_count": 13,
   "metadata": {},
   "outputs": [],
   "source": [
    "# bit of a mess up of the first name, need to put in columns\n",
    "df2011 = pd.read_csv('names/yob2011.txt', names = ['name','sex','count'])"
   ]
  },
  {
   "cell_type": "code",
   "execution_count": 14,
   "metadata": {},
   "outputs": [
    {
     "data": {
      "text/html": [
       "<div>\n",
       "<style scoped>\n",
       "    .dataframe tbody tr th:only-of-type {\n",
       "        vertical-align: middle;\n",
       "    }\n",
       "\n",
       "    .dataframe tbody tr th {\n",
       "        vertical-align: top;\n",
       "    }\n",
       "\n",
       "    .dataframe thead th {\n",
       "        text-align: right;\n",
       "    }\n",
       "</style>\n",
       "<table border=\"1\" class=\"dataframe\">\n",
       "  <thead>\n",
       "    <tr style=\"text-align: right;\">\n",
       "      <th></th>\n",
       "      <th>name</th>\n",
       "      <th>sex</th>\n",
       "      <th>count</th>\n",
       "    </tr>\n",
       "  </thead>\n",
       "  <tbody>\n",
       "    <tr>\n",
       "      <th>0</th>\n",
       "      <td>Sophia</td>\n",
       "      <td>F</td>\n",
       "      <td>21842</td>\n",
       "    </tr>\n",
       "    <tr>\n",
       "      <th>1</th>\n",
       "      <td>Isabella</td>\n",
       "      <td>F</td>\n",
       "      <td>19910</td>\n",
       "    </tr>\n",
       "    <tr>\n",
       "      <th>2</th>\n",
       "      <td>Emma</td>\n",
       "      <td>F</td>\n",
       "      <td>18803</td>\n",
       "    </tr>\n",
       "    <tr>\n",
       "      <th>3</th>\n",
       "      <td>Olivia</td>\n",
       "      <td>F</td>\n",
       "      <td>17322</td>\n",
       "    </tr>\n",
       "    <tr>\n",
       "      <th>4</th>\n",
       "      <td>Ava</td>\n",
       "      <td>F</td>\n",
       "      <td>15503</td>\n",
       "    </tr>\n",
       "  </tbody>\n",
       "</table>\n",
       "</div>"
      ],
      "text/plain": [
       "       name sex  count\n",
       "0    Sophia   F  21842\n",
       "1  Isabella   F  19910\n",
       "2      Emma   F  18803\n",
       "3    Olivia   F  17322\n",
       "4       Ava   F  15503"
      ]
     },
     "execution_count": 14,
     "metadata": {},
     "output_type": "execute_result"
    }
   ],
   "source": [
    "df2011.head()"
   ]
  },
  {
   "cell_type": "code",
   "execution_count": 28,
   "metadata": {},
   "outputs": [],
   "source": [
    "# concat data frames for every year of text file\n",
    "allyears = pd.concat(pd.read_csv(f'names/yob{year}.txt', names=['name','sex','count']).assign(year=year)\n",
    "                    for year in range(1880,2019))"
   ]
  },
  {
   "cell_type": "code",
   "execution_count": 29,
   "metadata": {},
   "outputs": [
    {
     "name": "stdout",
     "output_type": "stream",
     "text": [
      "<class 'pandas.core.frame.DataFrame'>\n",
      "Int64Index: 1957046 entries, 0 to 32032\n",
      "Data columns (total 4 columns):\n",
      "name     object\n",
      "sex      object\n",
      "count    int64\n",
      "year     int64\n",
      "dtypes: int64(2), object(2)\n",
      "memory usage: 74.7+ MB\n"
     ]
    }
   ],
   "source": [
    "allyears.info()"
   ]
  },
  {
   "cell_type": "code",
   "execution_count": 30,
   "metadata": {},
   "outputs": [
    {
     "data": {
      "text/html": [
       "<div>\n",
       "<style scoped>\n",
       "    .dataframe tbody tr th:only-of-type {\n",
       "        vertical-align: middle;\n",
       "    }\n",
       "\n",
       "    .dataframe tbody tr th {\n",
       "        vertical-align: top;\n",
       "    }\n",
       "\n",
       "    .dataframe thead th {\n",
       "        text-align: right;\n",
       "    }\n",
       "</style>\n",
       "<table border=\"1\" class=\"dataframe\">\n",
       "  <thead>\n",
       "    <tr style=\"text-align: right;\">\n",
       "      <th></th>\n",
       "      <th>count</th>\n",
       "      <th>year</th>\n",
       "    </tr>\n",
       "  </thead>\n",
       "  <tbody>\n",
       "    <tr>\n",
       "      <th>count</th>\n",
       "      <td>1.957046e+06</td>\n",
       "      <td>1.957046e+06</td>\n",
       "    </tr>\n",
       "    <tr>\n",
       "      <th>mean</th>\n",
       "      <td>1.796856e+02</td>\n",
       "      <td>1.975563e+03</td>\n",
       "    </tr>\n",
       "    <tr>\n",
       "      <th>std</th>\n",
       "      <td>1.522804e+03</td>\n",
       "      <td>3.419121e+01</td>\n",
       "    </tr>\n",
       "    <tr>\n",
       "      <th>min</th>\n",
       "      <td>5.000000e+00</td>\n",
       "      <td>1.880000e+03</td>\n",
       "    </tr>\n",
       "    <tr>\n",
       "      <th>25%</th>\n",
       "      <td>7.000000e+00</td>\n",
       "      <td>1.952000e+03</td>\n",
       "    </tr>\n",
       "    <tr>\n",
       "      <th>50%</th>\n",
       "      <td>1.200000e+01</td>\n",
       "      <td>1.985000e+03</td>\n",
       "    </tr>\n",
       "    <tr>\n",
       "      <th>75%</th>\n",
       "      <td>3.200000e+01</td>\n",
       "      <td>2.004000e+03</td>\n",
       "    </tr>\n",
       "    <tr>\n",
       "      <th>max</th>\n",
       "      <td>9.968900e+04</td>\n",
       "      <td>2.018000e+03</td>\n",
       "    </tr>\n",
       "  </tbody>\n",
       "</table>\n",
       "</div>"
      ],
      "text/plain": [
       "              count          year\n",
       "count  1.957046e+06  1.957046e+06\n",
       "mean   1.796856e+02  1.975563e+03\n",
       "std    1.522804e+03  3.419121e+01\n",
       "min    5.000000e+00  1.880000e+03\n",
       "25%    7.000000e+00  1.952000e+03\n",
       "50%    1.200000e+01  1.985000e+03\n",
       "75%    3.200000e+01  2.004000e+03\n",
       "max    9.968900e+04  2.018000e+03"
      ]
     },
     "execution_count": 30,
     "metadata": {},
     "output_type": "execute_result"
    }
   ],
   "source": [
    "allyears.describe()"
   ]
  },
  {
   "cell_type": "code",
   "execution_count": 31,
   "metadata": {},
   "outputs": [
    {
     "data": {
      "text/html": [
       "<div>\n",
       "<style scoped>\n",
       "    .dataframe tbody tr th:only-of-type {\n",
       "        vertical-align: middle;\n",
       "    }\n",
       "\n",
       "    .dataframe tbody tr th {\n",
       "        vertical-align: top;\n",
       "    }\n",
       "\n",
       "    .dataframe thead th {\n",
       "        text-align: right;\n",
       "    }\n",
       "</style>\n",
       "<table border=\"1\" class=\"dataframe\">\n",
       "  <thead>\n",
       "    <tr style=\"text-align: right;\">\n",
       "      <th></th>\n",
       "      <th>name</th>\n",
       "      <th>sex</th>\n",
       "      <th>count</th>\n",
       "      <th>year</th>\n",
       "    </tr>\n",
       "  </thead>\n",
       "  <tbody>\n",
       "    <tr>\n",
       "      <th>0</th>\n",
       "      <td>Mary</td>\n",
       "      <td>F</td>\n",
       "      <td>7065</td>\n",
       "      <td>1880</td>\n",
       "    </tr>\n",
       "    <tr>\n",
       "      <th>1</th>\n",
       "      <td>Anna</td>\n",
       "      <td>F</td>\n",
       "      <td>2604</td>\n",
       "      <td>1880</td>\n",
       "    </tr>\n",
       "    <tr>\n",
       "      <th>2</th>\n",
       "      <td>Emma</td>\n",
       "      <td>F</td>\n",
       "      <td>2003</td>\n",
       "      <td>1880</td>\n",
       "    </tr>\n",
       "    <tr>\n",
       "      <th>3</th>\n",
       "      <td>Elizabeth</td>\n",
       "      <td>F</td>\n",
       "      <td>1939</td>\n",
       "      <td>1880</td>\n",
       "    </tr>\n",
       "    <tr>\n",
       "      <th>4</th>\n",
       "      <td>Minnie</td>\n",
       "      <td>F</td>\n",
       "      <td>1746</td>\n",
       "      <td>1880</td>\n",
       "    </tr>\n",
       "  </tbody>\n",
       "</table>\n",
       "</div>"
      ],
      "text/plain": [
       "        name sex  count  year\n",
       "0       Mary   F   7065  1880\n",
       "1       Anna   F   2604  1880\n",
       "2       Emma   F   2003  1880\n",
       "3  Elizabeth   F   1939  1880\n",
       "4     Minnie   F   1746  1880"
      ]
     },
     "execution_count": 31,
     "metadata": {},
     "output_type": "execute_result"
    }
   ],
   "source": [
    "allyears.head()"
   ]
  },
  {
   "cell_type": "code",
   "execution_count": 32,
   "metadata": {},
   "outputs": [
    {
     "data": {
      "text/html": [
       "<div>\n",
       "<style scoped>\n",
       "    .dataframe tbody tr th:only-of-type {\n",
       "        vertical-align: middle;\n",
       "    }\n",
       "\n",
       "    .dataframe tbody tr th {\n",
       "        vertical-align: top;\n",
       "    }\n",
       "\n",
       "    .dataframe thead th {\n",
       "        text-align: right;\n",
       "    }\n",
       "</style>\n",
       "<table border=\"1\" class=\"dataframe\">\n",
       "  <thead>\n",
       "    <tr style=\"text-align: right;\">\n",
       "      <th></th>\n",
       "      <th>name</th>\n",
       "      <th>sex</th>\n",
       "      <th>count</th>\n",
       "      <th>year</th>\n",
       "    </tr>\n",
       "  </thead>\n",
       "  <tbody>\n",
       "    <tr>\n",
       "      <th>32028</th>\n",
       "      <td>Zylas</td>\n",
       "      <td>M</td>\n",
       "      <td>5</td>\n",
       "      <td>2018</td>\n",
       "    </tr>\n",
       "    <tr>\n",
       "      <th>32029</th>\n",
       "      <td>Zyran</td>\n",
       "      <td>M</td>\n",
       "      <td>5</td>\n",
       "      <td>2018</td>\n",
       "    </tr>\n",
       "    <tr>\n",
       "      <th>32030</th>\n",
       "      <td>Zyrie</td>\n",
       "      <td>M</td>\n",
       "      <td>5</td>\n",
       "      <td>2018</td>\n",
       "    </tr>\n",
       "    <tr>\n",
       "      <th>32031</th>\n",
       "      <td>Zyron</td>\n",
       "      <td>M</td>\n",
       "      <td>5</td>\n",
       "      <td>2018</td>\n",
       "    </tr>\n",
       "    <tr>\n",
       "      <th>32032</th>\n",
       "      <td>Zzyzx</td>\n",
       "      <td>M</td>\n",
       "      <td>5</td>\n",
       "      <td>2018</td>\n",
       "    </tr>\n",
       "  </tbody>\n",
       "</table>\n",
       "</div>"
      ],
      "text/plain": [
       "        name sex  count  year\n",
       "32028  Zylas   M      5  2018\n",
       "32029  Zyran   M      5  2018\n",
       "32030  Zyrie   M      5  2018\n",
       "32031  Zyron   M      5  2018\n",
       "32032  Zzyzx   M      5  2018"
      ]
     },
     "execution_count": 32,
     "metadata": {},
     "output_type": "execute_result"
    }
   ],
   "source": [
    "allyears.tail()"
   ]
  },
  {
   "cell_type": "code",
   "execution_count": 33,
   "metadata": {},
   "outputs": [],
   "source": [
    "#set the dataframe to a multi index\n",
    "allyears = allyears.set_index(['sex','name','year']).sort_index()"
   ]
  },
  {
   "cell_type": "code",
   "execution_count": 34,
   "metadata": {},
   "outputs": [
    {
     "data": {
      "text/html": [
       "<div>\n",
       "<style scoped>\n",
       "    .dataframe tbody tr th:only-of-type {\n",
       "        vertical-align: middle;\n",
       "    }\n",
       "\n",
       "    .dataframe tbody tr th {\n",
       "        vertical-align: top;\n",
       "    }\n",
       "\n",
       "    .dataframe thead th {\n",
       "        text-align: right;\n",
       "    }\n",
       "</style>\n",
       "<table border=\"1\" class=\"dataframe\">\n",
       "  <thead>\n",
       "    <tr style=\"text-align: right;\">\n",
       "      <th></th>\n",
       "      <th></th>\n",
       "      <th></th>\n",
       "      <th>count</th>\n",
       "    </tr>\n",
       "    <tr>\n",
       "      <th>sex</th>\n",
       "      <th>name</th>\n",
       "      <th>year</th>\n",
       "      <th></th>\n",
       "    </tr>\n",
       "  </thead>\n",
       "  <tbody>\n",
       "    <tr>\n",
       "      <th rowspan=\"5\" valign=\"top\">F</th>\n",
       "      <th rowspan=\"5\" valign=\"top\">Aabha</th>\n",
       "      <th>2011</th>\n",
       "      <td>7</td>\n",
       "    </tr>\n",
       "    <tr>\n",
       "      <th>2012</th>\n",
       "      <td>5</td>\n",
       "    </tr>\n",
       "    <tr>\n",
       "      <th>2014</th>\n",
       "      <td>9</td>\n",
       "    </tr>\n",
       "    <tr>\n",
       "      <th>2015</th>\n",
       "      <td>7</td>\n",
       "    </tr>\n",
       "    <tr>\n",
       "      <th>2016</th>\n",
       "      <td>7</td>\n",
       "    </tr>\n",
       "  </tbody>\n",
       "</table>\n",
       "</div>"
      ],
      "text/plain": [
       "                count\n",
       "sex name  year       \n",
       "F   Aabha 2011      7\n",
       "          2012      5\n",
       "          2014      9\n",
       "          2015      7\n",
       "          2016      7"
      ]
     },
     "execution_count": 34,
     "metadata": {},
     "output_type": "execute_result"
    }
   ],
   "source": [
    "allyears.head()"
   ]
  },
  {
   "cell_type": "code",
   "execution_count": 63,
   "metadata": {},
   "outputs": [
    {
     "data": {
      "text/html": [
       "<div>\n",
       "<style scoped>\n",
       "    .dataframe tbody tr th:only-of-type {\n",
       "        vertical-align: middle;\n",
       "    }\n",
       "\n",
       "    .dataframe tbody tr th {\n",
       "        vertical-align: top;\n",
       "    }\n",
       "\n",
       "    .dataframe thead th {\n",
       "        text-align: right;\n",
       "    }\n",
       "</style>\n",
       "<table border=\"1\" class=\"dataframe\">\n",
       "  <thead>\n",
       "    <tr style=\"text-align: right;\">\n",
       "      <th></th>\n",
       "      <th>count</th>\n",
       "    </tr>\n",
       "    <tr>\n",
       "      <th>year</th>\n",
       "      <th></th>\n",
       "    </tr>\n",
       "  </thead>\n",
       "  <tbody>\n",
       "    <tr>\n",
       "      <th>1880</th>\n",
       "      <td>7065</td>\n",
       "    </tr>\n",
       "    <tr>\n",
       "      <th>1881</th>\n",
       "      <td>6919</td>\n",
       "    </tr>\n",
       "    <tr>\n",
       "      <th>1882</th>\n",
       "      <td>8148</td>\n",
       "    </tr>\n",
       "    <tr>\n",
       "      <th>1883</th>\n",
       "      <td>8012</td>\n",
       "    </tr>\n",
       "    <tr>\n",
       "      <th>1884</th>\n",
       "      <td>9217</td>\n",
       "    </tr>\n",
       "    <tr>\n",
       "      <th>...</th>\n",
       "      <td>...</td>\n",
       "    </tr>\n",
       "    <tr>\n",
       "      <th>2014</th>\n",
       "      <td>2632</td>\n",
       "    </tr>\n",
       "    <tr>\n",
       "      <th>2015</th>\n",
       "      <td>2631</td>\n",
       "    </tr>\n",
       "    <tr>\n",
       "      <th>2016</th>\n",
       "      <td>2508</td>\n",
       "    </tr>\n",
       "    <tr>\n",
       "      <th>2017</th>\n",
       "      <td>2402</td>\n",
       "    </tr>\n",
       "    <tr>\n",
       "      <th>2018</th>\n",
       "      <td>2327</td>\n",
       "    </tr>\n",
       "  </tbody>\n",
       "</table>\n",
       "<p>139 rows × 1 columns</p>\n",
       "</div>"
      ],
      "text/plain": [
       "      count\n",
       "year       \n",
       "1880   7065\n",
       "1881   6919\n",
       "1882   8148\n",
       "1883   8012\n",
       "1884   9217\n",
       "...     ...\n",
       "2014   2632\n",
       "2015   2631\n",
       "2016   2508\n",
       "2017   2402\n",
       "2018   2327\n",
       "\n",
       "[139 rows x 1 columns]"
      ]
     },
     "execution_count": 63,
     "metadata": {},
     "output_type": "execute_result"
    }
   ],
   "source": [
    "allyears.loc[('F','Mary')]"
   ]
  },
  {
   "cell_type": "code",
   "execution_count": 64,
   "metadata": {},
   "outputs": [
    {
     "data": {
      "text/plain": [
       "[<matplotlib.lines.Line2D at 0x21d00307128>]"
      ]
     },
     "execution_count": 64,
     "metadata": {},
     "output_type": "execute_result"
    },
    {
     "data": {
      "image/png": "[encoded data removed]",
      "text/plain": [
       "<Figure size 432x288 with 1 Axes>"
      ]
     },
     "metadata": {
      "needs_background": "light"
     },
     "output_type": "display_data"
    }
   ],
   "source": [
    "# plot up female and mary to see how many mary's there were over the years\n",
    "plt.plot(allyears.loc[('F','Mary')])"
   ]
  },
  {
   "cell_type": "code",
   "execution_count": 65,
   "metadata": {},
   "outputs": [
    {
     "data": {
      "text/plain": [
       "[<matplotlib.lines.Line2D at 0x21d005ec438>]"
      ]
     },
     "execution_count": 65,
     "metadata": {},
     "output_type": "execute_result"
    },
    {
     "data": {
      "image/png": "[encoded data removed]",
      "text/plain": [
       "<Figure size 432x288 with 1 Axes>"
      ]
     },
     "metadata": {
      "needs_background": "light"
     },
     "output_type": "display_data"
    }
   ],
   "source": [
    "# see how many mary's were named in respect to all babies born \n",
    "# Maries were very popular in the 1880-1920 even though there were more mary's named from 1920-1980\n",
    "plt.plot(allyears.loc[('F','Mary')]/ allyears.groupby('year').sum())"
   ]
  },
  {
   "cell_type": "code",
   "execution_count": 66,
   "metadata": {},
   "outputs": [],
   "source": [
    "# define functions to make these plots so that we can easily compare multiple names for sex\n",
    "def plotname(sex,name):\n",
    "    \n",
    "    data = allyears.loc[(sex,name)]\n",
    "    \n",
    "    plt.plot(data.index,data.values,label=name)\n",
    "    plt.axis(xmin=1880,xmax=2018)"
   ]
  },
  {
   "cell_type": "code",
   "execution_count": 67,
   "metadata": {},
   "outputs": [],
   "source": [
    "# define a function that takes in multiple names and compares\n",
    "def comparenames(sex,names):\n",
    "        plt.figure(figsize = (12,6))\n",
    "        \n",
    "        for name in names:\n",
    "            plotname(sex,name)\n",
    "            \n",
    "        plt.legend()"
   ]
  },
  {
   "cell_type": "code",
   "execution_count": 68,
   "metadata": {},
   "outputs": [
    {
     "data": {
      "image/png": "[encoded data removed]",
      "text/plain": [
       "<Figure size 864x432 with 1 Axes>"
      ]
     },
     "metadata": {
      "needs_background": "light"
     },
     "output_type": "display_data"
    }
   ],
   "source": [
    "comparenames('M',['Michael','John','David','Craig'])"
   ]
  },
  {
   "cell_type": "code",
   "execution_count": 69,
   "metadata": {},
   "outputs": [
    {
     "data": {
      "image/png": "[encoded data removed]",
      "text/plain": [
       "<Figure size 864x432 with 1 Axes>"
      ]
     },
     "metadata": {
      "needs_background": "light"
     },
     "output_type": "display_data"
    }
   ],
   "source": [
    "comparenames('F',['Emily','Anna','Claire','Elizabeth'])"
   ]
  },
  {
   "cell_type": "code",
   "execution_count": 70,
   "metadata": {},
   "outputs": [],
   "source": [
    "girls=['Emily','Anna','Claire','Elizabeth']"
   ]
  },
  {
   "cell_type": "code",
   "execution_count": 71,
   "metadata": {},
   "outputs": [
    {
     "data": {
      "text/html": [
       "<div>\n",
       "<style scoped>\n",
       "    .dataframe tbody tr th:only-of-type {\n",
       "        vertical-align: middle;\n",
       "    }\n",
       "\n",
       "    .dataframe tbody tr th {\n",
       "        vertical-align: top;\n",
       "    }\n",
       "\n",
       "    .dataframe thead th {\n",
       "        text-align: right;\n",
       "    }\n",
       "</style>\n",
       "<table border=\"1\" class=\"dataframe\">\n",
       "  <thead>\n",
       "    <tr style=\"text-align: right;\">\n",
       "      <th></th>\n",
       "      <th></th>\n",
       "      <th></th>\n",
       "      <th>count</th>\n",
       "    </tr>\n",
       "    <tr>\n",
       "      <th>sex</th>\n",
       "      <th>name</th>\n",
       "      <th>year</th>\n",
       "      <th></th>\n",
       "    </tr>\n",
       "  </thead>\n",
       "  <tbody>\n",
       "    <tr>\n",
       "      <th rowspan=\"11\" valign=\"top\">F</th>\n",
       "      <th rowspan=\"11\" valign=\"top\">Anna</th>\n",
       "      <th>1880</th>\n",
       "      <td>2604</td>\n",
       "    </tr>\n",
       "    <tr>\n",
       "      <th>1881</th>\n",
       "      <td>2698</td>\n",
       "    </tr>\n",
       "    <tr>\n",
       "      <th>1882</th>\n",
       "      <td>3143</td>\n",
       "    </tr>\n",
       "    <tr>\n",
       "      <th>1883</th>\n",
       "      <td>3306</td>\n",
       "    </tr>\n",
       "    <tr>\n",
       "      <th>1884</th>\n",
       "      <td>3860</td>\n",
       "    </tr>\n",
       "    <tr>\n",
       "      <th>...</th>\n",
       "      <td>...</td>\n",
       "    </tr>\n",
       "    <tr>\n",
       "      <th>1895</th>\n",
       "      <td>5950</td>\n",
       "    </tr>\n",
       "    <tr>\n",
       "      <th>1896</th>\n",
       "      <td>5860</td>\n",
       "    </tr>\n",
       "    <tr>\n",
       "      <th>1897</th>\n",
       "      <td>5429</td>\n",
       "    </tr>\n",
       "    <tr>\n",
       "      <th>1898</th>\n",
       "      <td>5773</td>\n",
       "    </tr>\n",
       "    <tr>\n",
       "      <th>1899</th>\n",
       "      <td>5115</td>\n",
       "    </tr>\n",
       "  </tbody>\n",
       "</table>\n",
       "<p>20 rows × 1 columns</p>\n",
       "</div>"
      ],
      "text/plain": [
       "               count\n",
       "sex name year       \n",
       "F   Anna 1880   2604\n",
       "         1881   2698\n",
       "         1882   3143\n",
       "         1883   3306\n",
       "         1884   3860\n",
       "...              ...\n",
       "         1895   5950\n",
       "         1896   5860\n",
       "         1897   5429\n",
       "         1898   5773\n",
       "         1899   5115\n",
       "\n",
       "[20 rows x 1 columns]"
      ]
     },
     "execution_count": 71,
     "metadata": {},
     "output_type": "execute_result"
    }
   ],
   "source": [
    "# make a stacked plot that adds up the counts on top of each other\n",
    "allyears.loc[('F',girls),:].head(20)"
   ]
  },
  {
   "cell_type": "code",
   "execution_count": 72,
   "metadata": {},
   "outputs": [
    {
     "data": {
      "text/html": [
       "<div>\n",
       "<style scoped>\n",
       "    .dataframe tbody tr th:only-of-type {\n",
       "        vertical-align: middle;\n",
       "    }\n",
       "\n",
       "    .dataframe tbody tr th {\n",
       "        vertical-align: top;\n",
       "    }\n",
       "\n",
       "    .dataframe thead tr th {\n",
       "        text-align: left;\n",
       "    }\n",
       "\n",
       "    .dataframe thead tr:last-of-type th {\n",
       "        text-align: right;\n",
       "    }\n",
       "</style>\n",
       "<table border=\"1\" class=\"dataframe\">\n",
       "  <thead>\n",
       "    <tr>\n",
       "      <th></th>\n",
       "      <th></th>\n",
       "      <th colspan=\"21\" halign=\"left\">count</th>\n",
       "    </tr>\n",
       "    <tr>\n",
       "      <th></th>\n",
       "      <th>year</th>\n",
       "      <th>1880</th>\n",
       "      <th>1881</th>\n",
       "      <th>1882</th>\n",
       "      <th>1883</th>\n",
       "      <th>1884</th>\n",
       "      <th>1885</th>\n",
       "      <th>1886</th>\n",
       "      <th>1887</th>\n",
       "      <th>1888</th>\n",
       "      <th>1889</th>\n",
       "      <th>...</th>\n",
       "      <th>2009</th>\n",
       "      <th>2010</th>\n",
       "      <th>2011</th>\n",
       "      <th>2012</th>\n",
       "      <th>2013</th>\n",
       "      <th>2014</th>\n",
       "      <th>2015</th>\n",
       "      <th>2016</th>\n",
       "      <th>2017</th>\n",
       "      <th>2018</th>\n",
       "    </tr>\n",
       "    <tr>\n",
       "      <th>sex</th>\n",
       "      <th>name</th>\n",
       "      <th></th>\n",
       "      <th></th>\n",
       "      <th></th>\n",
       "      <th></th>\n",
       "      <th></th>\n",
       "      <th></th>\n",
       "      <th></th>\n",
       "      <th></th>\n",
       "      <th></th>\n",
       "      <th></th>\n",
       "      <th></th>\n",
       "      <th></th>\n",
       "      <th></th>\n",
       "      <th></th>\n",
       "      <th></th>\n",
       "      <th></th>\n",
       "      <th></th>\n",
       "      <th></th>\n",
       "      <th></th>\n",
       "      <th></th>\n",
       "      <th></th>\n",
       "    </tr>\n",
       "  </thead>\n",
       "  <tbody>\n",
       "    <tr>\n",
       "      <th rowspan=\"4\" valign=\"top\">F</th>\n",
       "      <th>Anna</th>\n",
       "      <td>2604</td>\n",
       "      <td>2698</td>\n",
       "      <td>3143</td>\n",
       "      <td>3306</td>\n",
       "      <td>3860</td>\n",
       "      <td>3994</td>\n",
       "      <td>4283</td>\n",
       "      <td>4227</td>\n",
       "      <td>4982</td>\n",
       "      <td>5062</td>\n",
       "      <td>...</td>\n",
       "      <td>6804</td>\n",
       "      <td>6329</td>\n",
       "      <td>5663</td>\n",
       "      <td>5618</td>\n",
       "      <td>5380</td>\n",
       "      <td>5689</td>\n",
       "      <td>5130</td>\n",
       "      <td>4784</td>\n",
       "      <td>4544</td>\n",
       "      <td>4145</td>\n",
       "    </tr>\n",
       "    <tr>\n",
       "      <th>Claire</th>\n",
       "      <td>21</td>\n",
       "      <td>23</td>\n",
       "      <td>30</td>\n",
       "      <td>38</td>\n",
       "      <td>33</td>\n",
       "      <td>49</td>\n",
       "      <td>61</td>\n",
       "      <td>58</td>\n",
       "      <td>73</td>\n",
       "      <td>62</td>\n",
       "      <td>...</td>\n",
       "      <td>4824</td>\n",
       "      <td>4915</td>\n",
       "      <td>4896</td>\n",
       "      <td>4944</td>\n",
       "      <td>4656</td>\n",
       "      <td>5014</td>\n",
       "      <td>4829</td>\n",
       "      <td>5209</td>\n",
       "      <td>4693</td>\n",
       "      <td>4379</td>\n",
       "    </tr>\n",
       "    <tr>\n",
       "      <th>Elizabeth</th>\n",
       "      <td>1939</td>\n",
       "      <td>1852</td>\n",
       "      <td>2186</td>\n",
       "      <td>2255</td>\n",
       "      <td>2549</td>\n",
       "      <td>2582</td>\n",
       "      <td>2680</td>\n",
       "      <td>2681</td>\n",
       "      <td>3224</td>\n",
       "      <td>3058</td>\n",
       "      <td>...</td>\n",
       "      <td>11035</td>\n",
       "      <td>10262</td>\n",
       "      <td>10091</td>\n",
       "      <td>9708</td>\n",
       "      <td>9454</td>\n",
       "      <td>9564</td>\n",
       "      <td>9730</td>\n",
       "      <td>9555</td>\n",
       "      <td>8955</td>\n",
       "      <td>8513</td>\n",
       "    </tr>\n",
       "    <tr>\n",
       "      <th>Emily</th>\n",
       "      <td>210</td>\n",
       "      <td>244</td>\n",
       "      <td>272</td>\n",
       "      <td>342</td>\n",
       "      <td>364</td>\n",
       "      <td>346</td>\n",
       "      <td>369</td>\n",
       "      <td>335</td>\n",
       "      <td>457</td>\n",
       "      <td>429</td>\n",
       "      <td>...</td>\n",
       "      <td>15352</td>\n",
       "      <td>14274</td>\n",
       "      <td>14258</td>\n",
       "      <td>13649</td>\n",
       "      <td>13126</td>\n",
       "      <td>12647</td>\n",
       "      <td>11786</td>\n",
       "      <td>10972</td>\n",
       "      <td>9781</td>\n",
       "      <td>8656</td>\n",
       "    </tr>\n",
       "  </tbody>\n",
       "</table>\n",
       "<p>4 rows × 139 columns</p>\n",
       "</div>"
      ],
      "text/plain": [
       "              count                                                        \\\n",
       "year           1880  1881  1882  1883  1884  1885  1886  1887  1888  1889   \n",
       "sex name                                                                    \n",
       "F   Anna       2604  2698  3143  3306  3860  3994  4283  4227  4982  5062   \n",
       "    Claire       21    23    30    38    33    49    61    58    73    62   \n",
       "    Elizabeth  1939  1852  2186  2255  2549  2582  2680  2681  3224  3058   \n",
       "    Emily       210   244   272   342   364   346   369   335   457   429   \n",
       "\n",
       "               ...                                                          \\\n",
       "year           ...   2009   2010   2011   2012   2013   2014   2015   2016   \n",
       "sex name       ...                                                           \n",
       "F   Anna       ...   6804   6329   5663   5618   5380   5689   5130   4784   \n",
       "    Claire     ...   4824   4915   4896   4944   4656   5014   4829   5209   \n",
       "    Elizabeth  ...  11035  10262  10091   9708   9454   9564   9730   9555   \n",
       "    Emily      ...  15352  14274  14258  13649  13126  12647  11786  10972   \n",
       "\n",
       "                           \n",
       "year           2017  2018  \n",
       "sex name                   \n",
       "F   Anna       4544  4145  \n",
       "    Claire     4693  4379  \n",
       "    Elizabeth  8955  8513  \n",
       "    Emily      9781  8656  \n",
       "\n",
       "[4 rows x 139 columns]"
      ]
     },
     "execution_count": 72,
     "metadata": {},
     "output_type": "execute_result"
    }
   ],
   "source": [
    "# Unpack year from an index to a column \n",
    "allyears.loc[('F',girls),:].unstack(level=2)"
   ]
  },
  {
   "cell_type": "code",
   "execution_count": 74,
   "metadata": {},
   "outputs": [
    {
     "data": {
      "text/plain": [
       "<matplotlib.legend.Legend at 0x21d0064c588>"
      ]
     },
     "execution_count": 74,
     "metadata": {},
     "output_type": "execute_result"
    },
    {
     "data": {
      "image/png": "[encoded data removed]",
      "text/plain": [
       "<Figure size 864x432 with 1 Axes>"
      ]
     },
     "metadata": {
      "needs_background": "light"
     },
     "output_type": "display_data"
    }
   ],
   "source": [
    "plt.figure(figsize=(12,6))\n",
    "plt.stackplot(range(1880,2019),allyears.loc[('F',girls),:].unstack(level=2).fillna(0),labels=girls)\n",
    "plt.legend(loc='upper left')"
   ]
  },
  {
   "cell_type": "code",
   "execution_count": 167,
   "metadata": {},
   "outputs": [],
   "source": [
    "# Reset the data and look at the yearly top 10 names \n",
    "allyears = pd.concat(pd.read_csv(f'names/yob{year}.txt', names=['name','sex','count']).assign(year=year)\n",
    "                    for year in range(1880,2019))"
   ]
  },
  {
   "cell_type": "code",
   "execution_count": 168,
   "metadata": {},
   "outputs": [
    {
     "data": {
      "text/html": [
       "<div>\n",
       "<style scoped>\n",
       "    .dataframe tbody tr th:only-of-type {\n",
       "        vertical-align: middle;\n",
       "    }\n",
       "\n",
       "    .dataframe tbody tr th {\n",
       "        vertical-align: top;\n",
       "    }\n",
       "\n",
       "    .dataframe thead th {\n",
       "        text-align: right;\n",
       "    }\n",
       "</style>\n",
       "<table border=\"1\" class=\"dataframe\">\n",
       "  <thead>\n",
       "    <tr style=\"text-align: right;\">\n",
       "      <th></th>\n",
       "      <th>name</th>\n",
       "      <th>sex</th>\n",
       "      <th>count</th>\n",
       "      <th>year</th>\n",
       "    </tr>\n",
       "  </thead>\n",
       "  <tbody>\n",
       "    <tr>\n",
       "      <th>0</th>\n",
       "      <td>Mary</td>\n",
       "      <td>F</td>\n",
       "      <td>7065</td>\n",
       "      <td>1880</td>\n",
       "    </tr>\n",
       "    <tr>\n",
       "      <th>1</th>\n",
       "      <td>Anna</td>\n",
       "      <td>F</td>\n",
       "      <td>2604</td>\n",
       "      <td>1880</td>\n",
       "    </tr>\n",
       "    <tr>\n",
       "      <th>2</th>\n",
       "      <td>Emma</td>\n",
       "      <td>F</td>\n",
       "      <td>2003</td>\n",
       "      <td>1880</td>\n",
       "    </tr>\n",
       "    <tr>\n",
       "      <th>3</th>\n",
       "      <td>Elizabeth</td>\n",
       "      <td>F</td>\n",
       "      <td>1939</td>\n",
       "      <td>1880</td>\n",
       "    </tr>\n",
       "    <tr>\n",
       "      <th>4</th>\n",
       "      <td>Minnie</td>\n",
       "      <td>F</td>\n",
       "      <td>1746</td>\n",
       "      <td>1880</td>\n",
       "    </tr>\n",
       "  </tbody>\n",
       "</table>\n",
       "</div>"
      ],
      "text/plain": [
       "        name sex  count  year\n",
       "0       Mary   F   7065  1880\n",
       "1       Anna   F   2604  1880\n",
       "2       Emma   F   2003  1880\n",
       "3  Elizabeth   F   1939  1880\n",
       "4     Minnie   F   1746  1880"
      ]
     },
     "execution_count": 168,
     "metadata": {},
     "output_type": "execute_result"
    }
   ],
   "source": [
    "allyears.head()"
   ]
  },
  {
   "cell_type": "code",
   "execution_count": 169,
   "metadata": {},
   "outputs": [],
   "source": [
    "#allyears = allyears.set_index(['sex','year','name']).sort_index()"
   ]
  },
  {
   "cell_type": "code",
   "execution_count": 173,
   "metadata": {},
   "outputs": [],
   "source": [
    "byyear = allyears.set_index(['sex','year','name']).sort_index()"
   ]
  },
  {
   "cell_type": "code",
   "execution_count": 174,
   "metadata": {},
   "outputs": [
    {
     "data": {
      "text/html": [
       "<div>\n",
       "<style scoped>\n",
       "    .dataframe tbody tr th:only-of-type {\n",
       "        vertical-align: middle;\n",
       "    }\n",
       "\n",
       "    .dataframe tbody tr th {\n",
       "        vertical-align: top;\n",
       "    }\n",
       "\n",
       "    .dataframe thead th {\n",
       "        text-align: right;\n",
       "    }\n",
       "</style>\n",
       "<table border=\"1\" class=\"dataframe\">\n",
       "  <thead>\n",
       "    <tr style=\"text-align: right;\">\n",
       "      <th></th>\n",
       "      <th></th>\n",
       "      <th></th>\n",
       "      <th>count</th>\n",
       "    </tr>\n",
       "    <tr>\n",
       "      <th>sex</th>\n",
       "      <th>year</th>\n",
       "      <th>name</th>\n",
       "      <th></th>\n",
       "    </tr>\n",
       "  </thead>\n",
       "  <tbody>\n",
       "    <tr>\n",
       "      <th rowspan=\"5\" valign=\"top\">F</th>\n",
       "      <th rowspan=\"5\" valign=\"top\">1880</th>\n",
       "      <th>Abbie</th>\n",
       "      <td>71</td>\n",
       "    </tr>\n",
       "    <tr>\n",
       "      <th>Abby</th>\n",
       "      <td>6</td>\n",
       "    </tr>\n",
       "    <tr>\n",
       "      <th>Abigail</th>\n",
       "      <td>12</td>\n",
       "    </tr>\n",
       "    <tr>\n",
       "      <th>Ada</th>\n",
       "      <td>652</td>\n",
       "    </tr>\n",
       "    <tr>\n",
       "      <th>Adah</th>\n",
       "      <td>24</td>\n",
       "    </tr>\n",
       "  </tbody>\n",
       "</table>\n",
       "</div>"
      ],
      "text/plain": [
       "                  count\n",
       "sex year name          \n",
       "F   1880 Abbie       71\n",
       "         Abby         6\n",
       "         Abigail     12\n",
       "         Ada        652\n",
       "         Adah        24"
      ]
     },
     "execution_count": 174,
     "metadata": {},
     "output_type": "execute_result"
    }
   ],
   "source": [
    "byyear.head()"
   ]
  },
  {
   "cell_type": "code",
   "execution_count": 175,
   "metadata": {},
   "outputs": [
    {
     "data": {
      "text/html": [
       "<div>\n",
       "<style scoped>\n",
       "    .dataframe tbody tr th:only-of-type {\n",
       "        vertical-align: middle;\n",
       "    }\n",
       "\n",
       "    .dataframe tbody tr th {\n",
       "        vertical-align: top;\n",
       "    }\n",
       "\n",
       "    .dataframe thead th {\n",
       "        text-align: right;\n",
       "    }\n",
       "</style>\n",
       "<table border=\"1\" class=\"dataframe\">\n",
       "  <thead>\n",
       "    <tr style=\"text-align: right;\">\n",
       "      <th></th>\n",
       "      <th>count</th>\n",
       "    </tr>\n",
       "    <tr>\n",
       "      <th>name</th>\n",
       "      <th></th>\n",
       "    </tr>\n",
       "  </thead>\n",
       "  <tbody>\n",
       "    <tr>\n",
       "      <th>Liam</th>\n",
       "      <td>19837</td>\n",
       "    </tr>\n",
       "    <tr>\n",
       "      <th>Noah</th>\n",
       "      <td>18267</td>\n",
       "    </tr>\n",
       "    <tr>\n",
       "      <th>William</th>\n",
       "      <td>14516</td>\n",
       "    </tr>\n",
       "    <tr>\n",
       "      <th>James</th>\n",
       "      <td>13525</td>\n",
       "    </tr>\n",
       "    <tr>\n",
       "      <th>Oliver</th>\n",
       "      <td>13389</td>\n",
       "    </tr>\n",
       "    <tr>\n",
       "      <th>...</th>\n",
       "      <td>...</td>\n",
       "    </tr>\n",
       "    <tr>\n",
       "      <th>Shiro</th>\n",
       "      <td>5</td>\n",
       "    </tr>\n",
       "    <tr>\n",
       "      <th>Shishir</th>\n",
       "      <td>5</td>\n",
       "    </tr>\n",
       "    <tr>\n",
       "      <th>Ikshan</th>\n",
       "      <td>5</td>\n",
       "    </tr>\n",
       "    <tr>\n",
       "      <th>Ikemsinachi</th>\n",
       "      <td>5</td>\n",
       "    </tr>\n",
       "    <tr>\n",
       "      <th>Zzyzx</th>\n",
       "      <td>5</td>\n",
       "    </tr>\n",
       "  </tbody>\n",
       "</table>\n",
       "<p>14004 rows × 1 columns</p>\n",
       "</div>"
      ],
      "text/plain": [
       "             count\n",
       "name              \n",
       "Liam         19837\n",
       "Noah         18267\n",
       "William      14516\n",
       "James        13525\n",
       "Oliver       13389\n",
       "...            ...\n",
       "Shiro            5\n",
       "Shishir          5\n",
       "Ikshan           5\n",
       "Ikemsinachi      5\n",
       "Zzyzx            5\n",
       "\n",
       "[14004 rows x 1 columns]"
      ]
     },
     "execution_count": 175,
     "metadata": {},
     "output_type": "execute_result"
    }
   ],
   "source": [
    "# sort by most popular names based on highest count \n",
    "byyear.loc['M',2018].sort_values('count',ascending=False)"
   ]
  },
  {
   "cell_type": "code",
   "execution_count": 176,
   "metadata": {},
   "outputs": [
    {
     "data": {
      "text/html": [
       "<div>\n",
       "<style scoped>\n",
       "    .dataframe tbody tr th:only-of-type {\n",
       "        vertical-align: middle;\n",
       "    }\n",
       "\n",
       "    .dataframe tbody tr th {\n",
       "        vertical-align: top;\n",
       "    }\n",
       "\n",
       "    .dataframe thead th {\n",
       "        text-align: right;\n",
       "    }\n",
       "</style>\n",
       "<table border=\"1\" class=\"dataframe\">\n",
       "  <thead>\n",
       "    <tr style=\"text-align: right;\">\n",
       "      <th></th>\n",
       "      <th>count</th>\n",
       "    </tr>\n",
       "    <tr>\n",
       "      <th>name</th>\n",
       "      <th></th>\n",
       "    </tr>\n",
       "  </thead>\n",
       "  <tbody>\n",
       "    <tr>\n",
       "      <th>Liam</th>\n",
       "      <td>19837</td>\n",
       "    </tr>\n",
       "    <tr>\n",
       "      <th>Noah</th>\n",
       "      <td>18267</td>\n",
       "    </tr>\n",
       "    <tr>\n",
       "      <th>William</th>\n",
       "      <td>14516</td>\n",
       "    </tr>\n",
       "    <tr>\n",
       "      <th>James</th>\n",
       "      <td>13525</td>\n",
       "    </tr>\n",
       "    <tr>\n",
       "      <th>Oliver</th>\n",
       "      <td>13389</td>\n",
       "    </tr>\n",
       "    <tr>\n",
       "      <th>Benjamin</th>\n",
       "      <td>13381</td>\n",
       "    </tr>\n",
       "    <tr>\n",
       "      <th>Elijah</th>\n",
       "      <td>12886</td>\n",
       "    </tr>\n",
       "    <tr>\n",
       "      <th>Lucas</th>\n",
       "      <td>12585</td>\n",
       "    </tr>\n",
       "    <tr>\n",
       "      <th>Mason</th>\n",
       "      <td>12435</td>\n",
       "    </tr>\n",
       "    <tr>\n",
       "      <th>Logan</th>\n",
       "      <td>12352</td>\n",
       "    </tr>\n",
       "  </tbody>\n",
       "</table>\n",
       "</div>"
      ],
      "text/plain": [
       "          count\n",
       "name           \n",
       "Liam      19837\n",
       "Noah      18267\n",
       "William   14516\n",
       "James     13525\n",
       "Oliver    13389\n",
       "Benjamin  13381\n",
       "Elijah    12886\n",
       "Lucas     12585\n",
       "Mason     12435\n",
       "Logan     12352"
      ]
     },
     "execution_count": 176,
     "metadata": {},
     "output_type": "execute_result"
    }
   ],
   "source": [
    "# the top 10 male names for 2018 were!!!!: \n",
    "byyear.loc['M',2018].sort_values('count',ascending=False).head(10)"
   ]
  },
  {
   "cell_type": "code",
   "execution_count": 177,
   "metadata": {},
   "outputs": [
    {
     "data": {
      "text/html": [
       "<div>\n",
       "<style scoped>\n",
       "    .dataframe tbody tr th:only-of-type {\n",
       "        vertical-align: middle;\n",
       "    }\n",
       "\n",
       "    .dataframe tbody tr th {\n",
       "        vertical-align: top;\n",
       "    }\n",
       "\n",
       "    .dataframe thead th {\n",
       "        text-align: right;\n",
       "    }\n",
       "</style>\n",
       "<table border=\"1\" class=\"dataframe\">\n",
       "  <thead>\n",
       "    <tr style=\"text-align: right;\">\n",
       "      <th></th>\n",
       "      <th>count</th>\n",
       "    </tr>\n",
       "    <tr>\n",
       "      <th>name</th>\n",
       "      <th></th>\n",
       "    </tr>\n",
       "  </thead>\n",
       "  <tbody>\n",
       "    <tr>\n",
       "      <th>Emma</th>\n",
       "      <td>18688</td>\n",
       "    </tr>\n",
       "    <tr>\n",
       "      <th>Olivia</th>\n",
       "      <td>17921</td>\n",
       "    </tr>\n",
       "    <tr>\n",
       "      <th>Ava</th>\n",
       "      <td>14924</td>\n",
       "    </tr>\n",
       "    <tr>\n",
       "      <th>Isabella</th>\n",
       "      <td>14464</td>\n",
       "    </tr>\n",
       "    <tr>\n",
       "      <th>Sophia</th>\n",
       "      <td>13928</td>\n",
       "    </tr>\n",
       "    <tr>\n",
       "      <th>Charlotte</th>\n",
       "      <td>12940</td>\n",
       "    </tr>\n",
       "    <tr>\n",
       "      <th>Mia</th>\n",
       "      <td>12642</td>\n",
       "    </tr>\n",
       "    <tr>\n",
       "      <th>Amelia</th>\n",
       "      <td>12301</td>\n",
       "    </tr>\n",
       "    <tr>\n",
       "      <th>Harper</th>\n",
       "      <td>10582</td>\n",
       "    </tr>\n",
       "    <tr>\n",
       "      <th>Evelyn</th>\n",
       "      <td>10376</td>\n",
       "    </tr>\n",
       "  </tbody>\n",
       "</table>\n",
       "</div>"
      ],
      "text/plain": [
       "           count\n",
       "name            \n",
       "Emma       18688\n",
       "Olivia     17921\n",
       "Ava        14924\n",
       "Isabella   14464\n",
       "Sophia     13928\n",
       "Charlotte  12940\n",
       "Mia        12642\n",
       "Amelia     12301\n",
       "Harper     10582\n",
       "Evelyn     10376"
      ]
     },
     "execution_count": 177,
     "metadata": {},
     "output_type": "execute_result"
    }
   ],
   "source": [
    "#the top 10 female names for 2018 were!!!:\n",
    "byyear.loc['F',2018].sort_values('count',ascending=False).head(10)"
   ]
  },
  {
   "cell_type": "code",
   "execution_count": 178,
   "metadata": {},
   "outputs": [
    {
     "data": {
      "text/plain": [
       "0         Emma\n",
       "1       Olivia\n",
       "2          Ava\n",
       "3     Isabella\n",
       "4       Sophia\n",
       "5    Charlotte\n",
       "6          Mia\n",
       "7       Amelia\n",
       "8       Harper\n",
       "9       Evelyn\n",
       "Name: name, dtype: object"
      ]
     },
     "execution_count": 178,
     "metadata": {},
     "output_type": "execute_result"
    }
   ],
   "source": [
    "# Create a top 10 dataframe of names per year based on sex.  reset_index changes 2018 to a top 10 list\n",
    "byyear.loc['F',2018].sort_values('count',ascending=False).head(10).reset_index().name"
   ]
  },
  {
   "cell_type": "code",
   "execution_count": 179,
   "metadata": {},
   "outputs": [],
   "source": [
    "# Create a funciton that does this for a number of years \n",
    "def getyear(sex,year):\n",
    "    return (byyear.loc[sex,year]                   # Select 'M/F' and the year\n",
    "           .sort_values('count',ascending = False) # Sort the values by most common count\n",
    "           .head(10)                               # choose top ten\n",
    "           .reset_index()                          # Reset the index so it says 0-10 instead of the year\n",
    "           .name)                                  # Return the name only string"
   ]
  },
  {
   "cell_type": "code",
   "execution_count": 180,
   "metadata": {},
   "outputs": [
    {
     "data": {
      "text/html": [
       "<div>\n",
       "<style scoped>\n",
       "    .dataframe tbody tr th:only-of-type {\n",
       "        vertical-align: middle;\n",
       "    }\n",
       "\n",
       "    .dataframe tbody tr th {\n",
       "        vertical-align: top;\n",
       "    }\n",
       "\n",
       "    .dataframe thead th {\n",
       "        text-align: right;\n",
       "    }\n",
       "</style>\n",
       "<table border=\"1\" class=\"dataframe\">\n",
       "  <thead>\n",
       "    <tr style=\"text-align: right;\">\n",
       "      <th></th>\n",
       "      <th>2010</th>\n",
       "      <th>2011</th>\n",
       "      <th>2012</th>\n",
       "      <th>2013</th>\n",
       "      <th>2014</th>\n",
       "      <th>2015</th>\n",
       "      <th>2016</th>\n",
       "      <th>2017</th>\n",
       "      <th>2018</th>\n",
       "    </tr>\n",
       "  </thead>\n",
       "  <tbody>\n",
       "    <tr>\n",
       "      <th>0</th>\n",
       "      <td>Jacob</td>\n",
       "      <td>Jacob</td>\n",
       "      <td>Jacob</td>\n",
       "      <td>Noah</td>\n",
       "      <td>Noah</td>\n",
       "      <td>Noah</td>\n",
       "      <td>Noah</td>\n",
       "      <td>Liam</td>\n",
       "      <td>Liam</td>\n",
       "    </tr>\n",
       "    <tr>\n",
       "      <th>1</th>\n",
       "      <td>Ethan</td>\n",
       "      <td>Mason</td>\n",
       "      <td>Mason</td>\n",
       "      <td>Jacob</td>\n",
       "      <td>Liam</td>\n",
       "      <td>Liam</td>\n",
       "      <td>Liam</td>\n",
       "      <td>Noah</td>\n",
       "      <td>Noah</td>\n",
       "    </tr>\n",
       "    <tr>\n",
       "      <th>2</th>\n",
       "      <td>Michael</td>\n",
       "      <td>William</td>\n",
       "      <td>Ethan</td>\n",
       "      <td>Liam</td>\n",
       "      <td>Mason</td>\n",
       "      <td>Mason</td>\n",
       "      <td>William</td>\n",
       "      <td>William</td>\n",
       "      <td>William</td>\n",
       "    </tr>\n",
       "    <tr>\n",
       "      <th>3</th>\n",
       "      <td>Jayden</td>\n",
       "      <td>Jayden</td>\n",
       "      <td>Noah</td>\n",
       "      <td>Mason</td>\n",
       "      <td>Jacob</td>\n",
       "      <td>Jacob</td>\n",
       "      <td>Mason</td>\n",
       "      <td>James</td>\n",
       "      <td>James</td>\n",
       "    </tr>\n",
       "    <tr>\n",
       "      <th>4</th>\n",
       "      <td>William</td>\n",
       "      <td>Noah</td>\n",
       "      <td>William</td>\n",
       "      <td>William</td>\n",
       "      <td>William</td>\n",
       "      <td>William</td>\n",
       "      <td>James</td>\n",
       "      <td>Logan</td>\n",
       "      <td>Oliver</td>\n",
       "    </tr>\n",
       "    <tr>\n",
       "      <th>5</th>\n",
       "      <td>Alexander</td>\n",
       "      <td>Michael</td>\n",
       "      <td>Liam</td>\n",
       "      <td>Ethan</td>\n",
       "      <td>Ethan</td>\n",
       "      <td>Ethan</td>\n",
       "      <td>Benjamin</td>\n",
       "      <td>Benjamin</td>\n",
       "      <td>Benjamin</td>\n",
       "    </tr>\n",
       "    <tr>\n",
       "      <th>6</th>\n",
       "      <td>Noah</td>\n",
       "      <td>Ethan</td>\n",
       "      <td>Michael</td>\n",
       "      <td>Michael</td>\n",
       "      <td>Michael</td>\n",
       "      <td>James</td>\n",
       "      <td>Jacob</td>\n",
       "      <td>Mason</td>\n",
       "      <td>Elijah</td>\n",
       "    </tr>\n",
       "    <tr>\n",
       "      <th>7</th>\n",
       "      <td>Daniel</td>\n",
       "      <td>Alexander</td>\n",
       "      <td>Jayden</td>\n",
       "      <td>Alexander</td>\n",
       "      <td>Alexander</td>\n",
       "      <td>Alexander</td>\n",
       "      <td>Michael</td>\n",
       "      <td>Elijah</td>\n",
       "      <td>Lucas</td>\n",
       "    </tr>\n",
       "    <tr>\n",
       "      <th>8</th>\n",
       "      <td>Aiden</td>\n",
       "      <td>Aiden</td>\n",
       "      <td>Alexander</td>\n",
       "      <td>Jayden</td>\n",
       "      <td>James</td>\n",
       "      <td>Michael</td>\n",
       "      <td>Elijah</td>\n",
       "      <td>Oliver</td>\n",
       "      <td>Mason</td>\n",
       "    </tr>\n",
       "    <tr>\n",
       "      <th>9</th>\n",
       "      <td>Anthony</td>\n",
       "      <td>Daniel</td>\n",
       "      <td>Aiden</td>\n",
       "      <td>Daniel</td>\n",
       "      <td>Daniel</td>\n",
       "      <td>Benjamin</td>\n",
       "      <td>Ethan</td>\n",
       "      <td>Jacob</td>\n",
       "      <td>Logan</td>\n",
       "    </tr>\n",
       "  </tbody>\n",
       "</table>\n",
       "</div>"
      ],
      "text/plain": [
       "        2010       2011       2012       2013       2014       2015      2016  \\\n",
       "0      Jacob      Jacob      Jacob       Noah       Noah       Noah      Noah   \n",
       "1      Ethan      Mason      Mason      Jacob       Liam       Liam      Liam   \n",
       "2    Michael    William      Ethan       Liam      Mason      Mason   William   \n",
       "3     Jayden     Jayden       Noah      Mason      Jacob      Jacob     Mason   \n",
       "4    William       Noah    William    William    William    William     James   \n",
       "5  Alexander    Michael       Liam      Ethan      Ethan      Ethan  Benjamin   \n",
       "6       Noah      Ethan    Michael    Michael    Michael      James     Jacob   \n",
       "7     Daniel  Alexander     Jayden  Alexander  Alexander  Alexander   Michael   \n",
       "8      Aiden      Aiden  Alexander     Jayden      James    Michael    Elijah   \n",
       "9    Anthony     Daniel      Aiden     Daniel     Daniel   Benjamin     Ethan   \n",
       "\n",
       "       2017      2018  \n",
       "0      Liam      Liam  \n",
       "1      Noah      Noah  \n",
       "2   William   William  \n",
       "3     James     James  \n",
       "4     Logan    Oliver  \n",
       "5  Benjamin  Benjamin  \n",
       "6     Mason    Elijah  \n",
       "7    Elijah     Lucas  \n",
       "8    Oliver     Mason  \n",
       "9     Jacob     Logan  "
      ]
     },
     "execution_count": 180,
     "metadata": {},
     "output_type": "execute_result"
    }
   ],
   "source": [
    "# Run the function and compile it into a dataframe\n",
    "pd.DataFrame({year: getyear('M',year) for year in range(2010,2019)})"
   ]
  },
  {
   "cell_type": "code",
   "execution_count": 181,
   "metadata": {},
   "outputs": [
    {
     "data": {
      "text/html": [
       "<div>\n",
       "<style scoped>\n",
       "    .dataframe tbody tr th:only-of-type {\n",
       "        vertical-align: middle;\n",
       "    }\n",
       "\n",
       "    .dataframe tbody tr th {\n",
       "        vertical-align: top;\n",
       "    }\n",
       "\n",
       "    .dataframe thead th {\n",
       "        text-align: right;\n",
       "    }\n",
       "</style>\n",
       "<table border=\"1\" class=\"dataframe\">\n",
       "  <thead>\n",
       "    <tr style=\"text-align: right;\">\n",
       "      <th></th>\n",
       "      <th>2010</th>\n",
       "      <th>2011</th>\n",
       "      <th>2012</th>\n",
       "      <th>2013</th>\n",
       "      <th>2014</th>\n",
       "      <th>2015</th>\n",
       "      <th>2016</th>\n",
       "      <th>2017</th>\n",
       "      <th>2018</th>\n",
       "    </tr>\n",
       "  </thead>\n",
       "  <tbody>\n",
       "    <tr>\n",
       "      <th>0</th>\n",
       "      <td>Isabella</td>\n",
       "      <td>Sophia</td>\n",
       "      <td>Sophia</td>\n",
       "      <td>Sophia</td>\n",
       "      <td>Emma</td>\n",
       "      <td>Emma</td>\n",
       "      <td>Emma</td>\n",
       "      <td>Emma</td>\n",
       "      <td>Emma</td>\n",
       "    </tr>\n",
       "    <tr>\n",
       "      <th>1</th>\n",
       "      <td>Sophia</td>\n",
       "      <td>Isabella</td>\n",
       "      <td>Emma</td>\n",
       "      <td>Emma</td>\n",
       "      <td>Olivia</td>\n",
       "      <td>Olivia</td>\n",
       "      <td>Olivia</td>\n",
       "      <td>Olivia</td>\n",
       "      <td>Olivia</td>\n",
       "    </tr>\n",
       "    <tr>\n",
       "      <th>2</th>\n",
       "      <td>Emma</td>\n",
       "      <td>Emma</td>\n",
       "      <td>Isabella</td>\n",
       "      <td>Olivia</td>\n",
       "      <td>Sophia</td>\n",
       "      <td>Sophia</td>\n",
       "      <td>Ava</td>\n",
       "      <td>Ava</td>\n",
       "      <td>Ava</td>\n",
       "    </tr>\n",
       "    <tr>\n",
       "      <th>3</th>\n",
       "      <td>Olivia</td>\n",
       "      <td>Olivia</td>\n",
       "      <td>Olivia</td>\n",
       "      <td>Isabella</td>\n",
       "      <td>Isabella</td>\n",
       "      <td>Ava</td>\n",
       "      <td>Sophia</td>\n",
       "      <td>Isabella</td>\n",
       "      <td>Isabella</td>\n",
       "    </tr>\n",
       "    <tr>\n",
       "      <th>4</th>\n",
       "      <td>Ava</td>\n",
       "      <td>Ava</td>\n",
       "      <td>Ava</td>\n",
       "      <td>Ava</td>\n",
       "      <td>Ava</td>\n",
       "      <td>Isabella</td>\n",
       "      <td>Isabella</td>\n",
       "      <td>Sophia</td>\n",
       "      <td>Sophia</td>\n",
       "    </tr>\n",
       "    <tr>\n",
       "      <th>5</th>\n",
       "      <td>Emily</td>\n",
       "      <td>Emily</td>\n",
       "      <td>Emily</td>\n",
       "      <td>Mia</td>\n",
       "      <td>Mia</td>\n",
       "      <td>Mia</td>\n",
       "      <td>Mia</td>\n",
       "      <td>Mia</td>\n",
       "      <td>Charlotte</td>\n",
       "    </tr>\n",
       "    <tr>\n",
       "      <th>6</th>\n",
       "      <td>Abigail</td>\n",
       "      <td>Abigail</td>\n",
       "      <td>Abigail</td>\n",
       "      <td>Emily</td>\n",
       "      <td>Emily</td>\n",
       "      <td>Abigail</td>\n",
       "      <td>Charlotte</td>\n",
       "      <td>Charlotte</td>\n",
       "      <td>Mia</td>\n",
       "    </tr>\n",
       "    <tr>\n",
       "      <th>7</th>\n",
       "      <td>Madison</td>\n",
       "      <td>Madison</td>\n",
       "      <td>Mia</td>\n",
       "      <td>Abigail</td>\n",
       "      <td>Abigail</td>\n",
       "      <td>Emily</td>\n",
       "      <td>Abigail</td>\n",
       "      <td>Amelia</td>\n",
       "      <td>Amelia</td>\n",
       "    </tr>\n",
       "    <tr>\n",
       "      <th>8</th>\n",
       "      <td>Chloe</td>\n",
       "      <td>Mia</td>\n",
       "      <td>Madison</td>\n",
       "      <td>Madison</td>\n",
       "      <td>Madison</td>\n",
       "      <td>Charlotte</td>\n",
       "      <td>Emily</td>\n",
       "      <td>Evelyn</td>\n",
       "      <td>Harper</td>\n",
       "    </tr>\n",
       "    <tr>\n",
       "      <th>9</th>\n",
       "      <td>Mia</td>\n",
       "      <td>Chloe</td>\n",
       "      <td>Elizabeth</td>\n",
       "      <td>Elizabeth</td>\n",
       "      <td>Charlotte</td>\n",
       "      <td>Harper</td>\n",
       "      <td>Harper</td>\n",
       "      <td>Abigail</td>\n",
       "      <td>Evelyn</td>\n",
       "    </tr>\n",
       "  </tbody>\n",
       "</table>\n",
       "</div>"
      ],
      "text/plain": [
       "       2010      2011       2012       2013       2014       2015       2016  \\\n",
       "0  Isabella    Sophia     Sophia     Sophia       Emma       Emma       Emma   \n",
       "1    Sophia  Isabella       Emma       Emma     Olivia     Olivia     Olivia   \n",
       "2      Emma      Emma   Isabella     Olivia     Sophia     Sophia        Ava   \n",
       "3    Olivia    Olivia     Olivia   Isabella   Isabella        Ava     Sophia   \n",
       "4       Ava       Ava        Ava        Ava        Ava   Isabella   Isabella   \n",
       "5     Emily     Emily      Emily        Mia        Mia        Mia        Mia   \n",
       "6   Abigail   Abigail    Abigail      Emily      Emily    Abigail  Charlotte   \n",
       "7   Madison   Madison        Mia    Abigail    Abigail      Emily    Abigail   \n",
       "8     Chloe       Mia    Madison    Madison    Madison  Charlotte      Emily   \n",
       "9       Mia     Chloe  Elizabeth  Elizabeth  Charlotte     Harper     Harper   \n",
       "\n",
       "        2017       2018  \n",
       "0       Emma       Emma  \n",
       "1     Olivia     Olivia  \n",
       "2        Ava        Ava  \n",
       "3   Isabella   Isabella  \n",
       "4     Sophia     Sophia  \n",
       "5        Mia  Charlotte  \n",
       "6  Charlotte        Mia  \n",
       "7     Amelia     Amelia  \n",
       "8     Evelyn     Harper  \n",
       "9    Abigail     Evelyn  "
      ]
     },
     "execution_count": 181,
     "metadata": {},
     "output_type": "execute_result"
    }
   ],
   "source": [
    "pd.DataFrame({year: getyear('F',year) for year in range(2010,2019)})"
   ]
  },
  {
   "cell_type": "code",
   "execution_count": 205,
   "metadata": {},
   "outputs": [],
   "source": [
    "# let's plot these names up \n",
    "def plotname(sex,name):\n",
    "    \n",
    "    data = allyears.loc[('sex','name')]\n",
    "    \n",
    "    plt.plot(data.year,data.count,label=name)\n",
    "    plt.axis(xmin=1880,xmax=2018)"
   ]
  },
  {
   "cell_type": "code",
   "execution_count": 204,
   "metadata": {},
   "outputs": [
    {
     "data": {
      "text/plain": [
       "0        1880\n",
       "1        1880\n",
       "2        1880\n",
       "3        1880\n",
       "4        1880\n",
       "         ... \n",
       "32028    2018\n",
       "32029    2018\n",
       "32030    2018\n",
       "32031    2018\n",
       "32032    2018\n",
       "Name: year, Length: 1957046, dtype: int64"
      ]
     },
     "execution_count": 204,
     "metadata": {},
     "output_type": "execute_result"
    }
   ],
   "source": [
    "allyears.year"
   ]
  },
  {
   "cell_type": "code",
   "execution_count": 192,
   "metadata": {},
   "outputs": [
    {
     "data": {
      "text/html": [
       "<div>\n",
       "<style scoped>\n",
       "    .dataframe tbody tr th:only-of-type {\n",
       "        vertical-align: middle;\n",
       "    }\n",
       "\n",
       "    .dataframe tbody tr th {\n",
       "        vertical-align: top;\n",
       "    }\n",
       "\n",
       "    .dataframe thead th {\n",
       "        text-align: right;\n",
       "    }\n",
       "</style>\n",
       "<table border=\"1\" class=\"dataframe\">\n",
       "  <thead>\n",
       "    <tr style=\"text-align: right;\">\n",
       "      <th></th>\n",
       "      <th>name</th>\n",
       "      <th>sex</th>\n",
       "      <th>count</th>\n",
       "      <th>year</th>\n",
       "    </tr>\n",
       "  </thead>\n",
       "  <tbody>\n",
       "    <tr>\n",
       "      <th>0</th>\n",
       "      <td>Mary</td>\n",
       "      <td>F</td>\n",
       "      <td>7065</td>\n",
       "      <td>1880</td>\n",
       "    </tr>\n",
       "    <tr>\n",
       "      <th>1</th>\n",
       "      <td>Anna</td>\n",
       "      <td>F</td>\n",
       "      <td>2604</td>\n",
       "      <td>1880</td>\n",
       "    </tr>\n",
       "    <tr>\n",
       "      <th>2</th>\n",
       "      <td>Emma</td>\n",
       "      <td>F</td>\n",
       "      <td>2003</td>\n",
       "      <td>1880</td>\n",
       "    </tr>\n",
       "    <tr>\n",
       "      <th>3</th>\n",
       "      <td>Elizabeth</td>\n",
       "      <td>F</td>\n",
       "      <td>1939</td>\n",
       "      <td>1880</td>\n",
       "    </tr>\n",
       "    <tr>\n",
       "      <th>4</th>\n",
       "      <td>Minnie</td>\n",
       "      <td>F</td>\n",
       "      <td>1746</td>\n",
       "      <td>1880</td>\n",
       "    </tr>\n",
       "  </tbody>\n",
       "</table>\n",
       "</div>"
      ],
      "text/plain": [
       "        name sex  count  year\n",
       "0       Mary   F   7065  1880\n",
       "1       Anna   F   2604  1880\n",
       "2       Emma   F   2003  1880\n",
       "3  Elizabeth   F   1939  1880\n",
       "4     Minnie   F   1746  1880"
      ]
     },
     "execution_count": 192,
     "metadata": {},
     "output_type": "execute_result"
    }
   ],
   "source": [
    "allyears.head()"
   ]
  },
  {
   "cell_type": "code",
   "execution_count": 210,
   "metadata": {},
   "outputs": [],
   "source": [
    "# Find UNISEX names \n",
    "totals = allyears.groupby(['sex','name'])['count'].sum().sort_values()"
   ]
  },
  {
   "cell_type": "code",
   "execution_count": 211,
   "metadata": {},
   "outputs": [
    {
     "data": {
      "text/plain": [
       "sex  name    \n",
       "F    Itia              5\n",
       "M    Naiym             5\n",
       "     Naithyn           5\n",
       "     Cahari            5\n",
       "F    Catrease          5\n",
       "                  ...   \n",
       "     Mary        4125675\n",
       "M    Michael     4362731\n",
       "     Robert      4820129\n",
       "     John        5124817\n",
       "     James       5164280\n",
       "Name: count, Length: 109173, dtype: int64"
      ]
     },
     "execution_count": 211,
     "metadata": {},
     "output_type": "execute_result"
    }
   ],
   "source": [
    "totals"
   ]
  },
  {
   "cell_type": "code",
   "execution_count": 212,
   "metadata": {},
   "outputs": [],
   "source": [
    "male , female = totals.loc['M'], totals.loc['F']"
   ]
  },
  {
   "cell_type": "code",
   "execution_count": 213,
   "metadata": {},
   "outputs": [
    {
     "data": {
      "text/plain": [
       "name\n",
       "Naiym             5\n",
       "Naithyn           5\n",
       "Cahari            5\n",
       "Caelyn            5\n",
       "Naishaun          5\n",
       "             ...   \n",
       "William     4117369\n",
       "Michael     4362731\n",
       "Robert      4820129\n",
       "John        5124817\n",
       "James       5164280\n",
       "Name: count, Length: 41475, dtype: int64"
      ]
     },
     "execution_count": 213,
     "metadata": {},
     "output_type": "execute_result"
    }
   ],
   "source": [
    "male"
   ]
  },
  {
   "cell_type": "code",
   "execution_count": 214,
   "metadata": {},
   "outputs": [
    {
     "data": {
      "text/plain": [
       "name\n",
       "Aaban      False\n",
       "Aabha      False\n",
       "Aabid      False\n",
       "Aabidah    False\n",
       "Aabir      False\n",
       "           ...  \n",
       "Zyvion     False\n",
       "Zyvon      False\n",
       "Zyyanna    False\n",
       "Zyyon      False\n",
       "Zzyzx      False\n",
       "Name: count, Length: 98400, dtype: bool"
      ]
     },
     "execution_count": 214,
     "metadata": {},
     "output_type": "execute_result"
    }
   ],
   "source": [
    "totals.loc['M']/totals.loc['F'] <2"
   ]
  },
  {
   "cell_type": "code",
   "execution_count": 215,
   "metadata": {},
   "outputs": [
    {
     "data": {
      "text/plain": [
       "name\n",
       "Aaban     NaN\n",
       "Aabha     NaN\n",
       "Aabid     NaN\n",
       "Aabidah   NaN\n",
       "Aabir     NaN\n",
       "           ..\n",
       "Zyvion    NaN\n",
       "Zyvon     NaN\n",
       "Zyyanna   NaN\n",
       "Zyyon     NaN\n",
       "Zzyzx     NaN\n",
       "Name: count, Length: 98400, dtype: float64"
      ]
     },
     "execution_count": 215,
     "metadata": {},
     "output_type": "execute_result"
    }
   ],
   "source": [
    "# Wherever there isnt both a male and female, you will get a  NaN when trying to divide them \n",
    "(totals.loc['M']/totals.loc['F']) "
   ]
  },
  {
   "cell_type": "code",
   "execution_count": 216,
   "metadata": {},
   "outputs": [],
   "source": [
    "# drop the NaN values \n",
    "ratios = (totals.loc['M']/totals.loc['F']).dropna()"
   ]
  },
  {
   "cell_type": "code",
   "execution_count": 217,
   "metadata": {},
   "outputs": [
    {
     "data": {
      "text/plain": [
       "name\n",
       "Aaden      965.600000\n",
       "Aadi        53.187500\n",
       "Aadyn       32.250000\n",
       "Aalijah      1.422819\n",
       "Aaliyah      0.001098\n",
       "              ...    \n",
       "Zyion        5.464286\n",
       "Zyon         4.254839\n",
       "Zyonn        8.000000\n",
       "Zyree        5.875000\n",
       "Zyrie        0.842105\n",
       "Name: count, Length: 10773, dtype: float64"
      ]
     },
     "execution_count": 217,
     "metadata": {},
     "output_type": "execute_result"
    }
   ],
   "source": [
    "ratios"
   ]
  },
  {
   "cell_type": "code",
   "execution_count": 218,
   "metadata": {},
   "outputs": [
    {
     "data": {
      "text/plain": [
       "name\n",
       "Aalijah    1.422819\n",
       "Aamari     1.430233\n",
       "Aari       1.111111\n",
       "Aarin      1.950331\n",
       "Aaris      1.000000\n",
       "             ...   \n",
       "Ziyan      1.251748\n",
       "Zoel       1.928571\n",
       "Zohar      0.520270\n",
       "Zyian      0.714286\n",
       "Zyrie      0.842105\n",
       "Name: count, Length: 1660, dtype: float64"
      ]
     },
     "execution_count": 218,
     "metadata": {},
     "output_type": "execute_result"
    }
   ],
   "source": [
    "# Ratio for a truely unisex name should have a ratio over 0.5 and less than 2 \n",
    "ratios[(ratios>0.5) & (ratios<2)]"
   ]
  },
  {
   "cell_type": "code",
   "execution_count": 219,
   "metadata": {},
   "outputs": [],
   "source": [
    "unisex = ratios[(ratios>0.5) & (ratios<2)].index"
   ]
  },
  {
   "cell_type": "code",
   "execution_count": 220,
   "metadata": {},
   "outputs": [
    {
     "data": {
      "text/plain": [
       "Index(['Aalijah', 'Aamari', 'Aari', 'Aarin', 'Aaris', 'Aaryn', 'Aavyn', 'Abey',\n",
       "       'Abrar', 'Abriel',\n",
       "       ...\n",
       "       'Zell', 'Zi', 'Ziel', 'Zihan', 'Zixuan', 'Ziyan', 'Zoel', 'Zohar',\n",
       "       'Zyian', 'Zyrie'],\n",
       "      dtype='object', name='name', length=1660)"
      ]
     },
     "execution_count": 220,
     "metadata": {},
     "output_type": "execute_result"
    }
   ],
   "source": [
    "# 1660 names pass the test and are considered UNISEX\n",
    "unisex"
   ]
  },
  {
   "cell_type": "code",
   "execution_count": 221,
   "metadata": {},
   "outputs": [],
   "source": [
    "# Find the most common\n",
    "common = (male.loc[unisex] + female.loc[unisex]).sort_values(ascending=False).head(10)"
   ]
  },
  {
   "cell_type": "code",
   "execution_count": 222,
   "metadata": {},
   "outputs": [
    {
     "data": {
      "text/plain": [
       "name\n",
       "Jessie     277674\n",
       "Riley      201179\n",
       "Casey      186947\n",
       "Jackie     169199\n",
       "Peyton     120657\n",
       "Jaime      117885\n",
       "Kerry       98195\n",
       "Kendall     93317\n",
       "Jody        86971\n",
       "Frankie     74325\n",
       "Name: count, dtype: int64"
      ]
     },
     "execution_count": 222,
     "metadata": {},
     "output_type": "execute_result"
    }
   ],
   "source": [
    "# Jessie is the most common UNISEX name\n",
    "common"
   ]
  },
  {
   "cell_type": "code",
   "execution_count": 223,
   "metadata": {},
   "outputs": [],
   "source": [
    "allyears_indexed = allyears.set_index(['sex','name','year']).sort_index()"
   ]
  },
  {
   "cell_type": "code",
   "execution_count": 225,
   "metadata": {},
   "outputs": [
    {
     "data": {
      "image/png": "[encoded data removed]",
      "text/plain": [
       "<Figure size 648x648 with 10 Axes>"
      ]
     },
     "metadata": {
      "needs_background": "light"
     },
     "output_type": "display_data"
    }
   ],
   "source": [
    "plt.figure(figsize=(9,9))\n",
    "\n",
    "for i, name in enumerate(common.index):\n",
    "    plt.subplot(5,2,i+1)\n",
    "    \n",
    "    plt.plot(allyears_indexed.loc['M',name], label='M')\n",
    "    plt.plot(allyears_indexed.loc['F',name], label='F')\n",
    "    \n",
    "    plt.legend()\n",
    "    plt.title(name)\n",
    "\n",
    "plt.tight_layout()"
   ]
  },
  {
   "cell_type": "code",
   "execution_count": null,
   "metadata": {},
   "outputs": [],
   "source": []
  }
 ],
 "metadata": {
  "kernelspec": {
   "display_name": "Python 3",
   "language": "python",
   "name": "python3"
  },
  "language_info": {
   "codemirror_mode": {
    "name": "ipython",
    "version": 3
   },
   "file_extension": ".py",
   "mimetype": "text/x-python",
   "name": "python",
   "nbconvert_exporter": "python",
   "pygments_lexer": "ipython3",
   "version": "3.7.3"
  }
 },
 "nbformat": 4,
 "nbformat_minor": 2
}
